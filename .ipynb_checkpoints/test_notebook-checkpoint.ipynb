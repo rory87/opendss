{
 "cells": [
  {
   "cell_type": "code",
   "execution_count": 1,
   "metadata": {},
   "outputs": [],
   "source": [
    "import opendssdirect as dss\n",
    "import pandas as pd\n",
    "import datetime\n",
    "import numpy as np\n",
    "import matplotlib.pyplot as plt"
   ]
  },
  {
   "cell_type": "code",
   "execution_count": 2,
   "metadata": {},
   "outputs": [],
   "source": [
    "#import load data\n",
    "loadAllClean = pd.read_csv('load_data.csv', header=None).to_numpy()\n",
    "\n",
    "t = pd.date_range(start='1/3/2009', end='27/3/2009 23:30:00', freq='0.5H')\n",
    "load_all = pd.DataFrame(loadAllClean, index=t)"
   ]
  },
  {
   "cell_type": "code",
   "execution_count": 3,
   "metadata": {},
   "outputs": [
    {
     "data": {
      "text/plain": [
       "'/Users/rory/python/opendss'"
      ]
     },
     "execution_count": 3,
     "metadata": {},
     "output_type": "execute_result"
    }
   ],
   "source": [
    "pwd"
   ]
  },
  {
   "cell_type": "code",
   "execution_count": null,
   "metadata": {},
   "outputs": [],
   "source": [
    "dss.run_command('Redirect Master2.txt')\n",
    "dss.run_command('Edit Vsource.Source BasekV=11 pu=1.00  ISC3=3000  ISC1=2500')\n",
    "\n",
    "#add Monitors and meters\n",
    "dss.run_command('new monitor.tr_vi element=transformer.tr1 mode=0 terminal=2') #LV Side V and I\n",
    "dss.run_command('new monitor.tr_pq element=transformer.tr1 mode=1 terminal=1 ppolar=no') #HV Side P and Q\n",
    "dss.run_command('New EnergyMeter.SS1 Element=Transformer.TR1 action=SAVE')\n",
    "\n",
    "#solve\n",
    "dss.run_command('Solve')"
   ]
  }
 ],
 "metadata": {
  "kernelspec": {
   "display_name": "Python 3",
   "language": "python",
   "name": "python3"
  },
  "language_info": {
   "codemirror_mode": {
    "name": "ipython",
    "version": 3
   },
   "file_extension": ".py",
   "mimetype": "text/x-python",
   "name": "python",
   "nbconvert_exporter": "python",
   "pygments_lexer": "ipython3",
   "version": "3.7.6"
  }
 },
 "nbformat": 4,
 "nbformat_minor": 4
}
